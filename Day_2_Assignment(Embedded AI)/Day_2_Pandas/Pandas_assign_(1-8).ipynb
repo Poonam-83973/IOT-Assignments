{
 "cells": [
  {
   "cell_type": "code",
   "execution_count": 1,
   "id": "301180c1-3001-473f-8f73-8833b1f064ee",
   "metadata": {},
   "outputs": [],
   "source": [
    "import numpy as np\n",
    "import pandas as pd"
   ]
  },
  {
   "cell_type": "markdown",
   "id": "32008380-ff8d-4fb7-ab34-aff521f185cc",
   "metadata": {},
   "source": [
    "#1. Write a Pandas program to create and display a one-dimensional array-like object containing an array of data."
   ]
  },
  {
   "cell_type": "code",
   "execution_count": 2,
   "id": "9a5ad3b1-4718-42f7-909b-c9bda2c6dbec",
   "metadata": {},
   "outputs": [
    {
     "name": "stdout",
     "output_type": "stream",
     "text": [
      "0    11\n",
      "1    22\n",
      "2    33\n",
      "3    44\n",
      "4    55\n",
      "dtype: int64\n"
     ]
    }
   ],
   "source": [
    "ds = pd.Series([11,22,33,44,55])\n",
    "print(ds)"
   ]
  },
  {
   "cell_type": "markdown",
   "id": "9a223b25-8212-4322-ab0d-3d64369aba7c",
   "metadata": {},
   "source": [
    "#2. Write a Pandas program to convert a Panda module Series to Python list and it’s type."
   ]
  },
  {
   "cell_type": "code",
   "execution_count": 6,
   "id": "c45c1c2f-db88-41b0-825f-eae5284b6234",
   "metadata": {},
   "outputs": [
    {
     "name": "stdout",
     "output_type": "stream",
     "text": [
      "0    10\n",
      "1    20\n",
      "2    30\n",
      "3    40\n",
      "4    50\n",
      "dtype: int64\n",
      "<class 'pandas.core.series.Series'>\n",
      "[10, 20, 30, 40, 50]\n",
      "<class 'list'>\n"
     ]
    }
   ],
   "source": [
    "ds = pd.Series([10,20,30,40,50])\n",
    "print(ds)\n",
    "print(type(ds))\n",
    "ls = ds.tolist()\n",
    "print(ls)\n",
    "print(type(ls))"
   ]
  },
  {
   "cell_type": "markdown",
   "id": "60dfba2e-133c-4aab-a964-8492883076e1",
   "metadata": {},
   "source": [
    "#3. Write a Pandas program to add, subtract, multiple and divide two Pandas Series.\n",
    "   Sample Series: [2, 4, 6, 8, 10], [1, 3, 5, 7, 9]\n"
   ]
  },
  {
   "cell_type": "code",
   "execution_count": 9,
   "id": "dc52b967-81d3-4099-99fe-2b01c463633e",
   "metadata": {},
   "outputs": [
    {
     "name": "stdout",
     "output_type": "stream",
     "text": [
      "0     2\n",
      "1     4\n",
      "2     6\n",
      "3     8\n",
      "4    10\n",
      "dtype: int64\n",
      "0    1\n",
      "1    3\n",
      "2    5\n",
      "3    7\n",
      "4    9\n",
      "dtype: int64\n",
      "Addition of two series is as follows\n",
      "0     3\n",
      "1     7\n",
      "2    11\n",
      "3    15\n",
      "4    19\n",
      "dtype: int64\n"
     ]
    }
   ],
   "source": [
    "ds1 = pd.Series([2,4,6,8,10])\n",
    "print(ds1)\n",
    "ds2 = pd.Series([1,3,5,7,9])\n",
    "print(ds2)\n",
    "add = ds1 + ds2\n",
    "print(\"Addition of two series is as follows\")\n",
    "print(add)"
   ]
  },
  {
   "cell_type": "code",
   "execution_count": 10,
   "id": "aaa0223b-4aeb-4a24-a852-a4a22f0c9cf5",
   "metadata": {},
   "outputs": [
    {
     "name": "stdout",
     "output_type": "stream",
     "text": [
      "0     2\n",
      "1     4\n",
      "2     6\n",
      "3     8\n",
      "4    10\n",
      "dtype: int64\n",
      "0    1\n",
      "1    3\n",
      "2    5\n",
      "3    7\n",
      "4    9\n",
      "dtype: int64\n",
      "Subtraction of two series is as follows\n",
      "0    1\n",
      "1    1\n",
      "2    1\n",
      "3    1\n",
      "4    1\n",
      "dtype: int64\n"
     ]
    }
   ],
   "source": [
    "ds1 = pd.Series([2,4,6,8,10])\n",
    "print(ds1)\n",
    "ds2 = pd.Series([1,3,5,7,9])\n",
    "print(ds2)\n",
    "sub = ds1 - ds2\n",
    "print(\"Subtraction of two series is as follows\")\n",
    "print(sub)"
   ]
  },
  {
   "cell_type": "code",
   "execution_count": 11,
   "id": "86306dbd-163e-4767-bf86-5020a01046fb",
   "metadata": {},
   "outputs": [
    {
     "name": "stdout",
     "output_type": "stream",
     "text": [
      "0     2\n",
      "1     4\n",
      "2     6\n",
      "3     8\n",
      "4    10\n",
      "dtype: int64\n",
      "0    1\n",
      "1    3\n",
      "2    5\n",
      "3    7\n",
      "4    9\n",
      "dtype: int64\n",
      "Multiplication of two series is as follows\n",
      "0     2\n",
      "1    12\n",
      "2    30\n",
      "3    56\n",
      "4    90\n",
      "dtype: int64\n"
     ]
    }
   ],
   "source": [
    "ds1 = pd.Series([2,4,6,8,10])\n",
    "print(ds1)\n",
    "ds2 = pd.Series([1,3,5,7,9])\n",
    "print(ds2)\n",
    "mul = ds1 * ds2\n",
    "print(\"Multiplication of two series is as follows\")\n",
    "print(mul)"
   ]
  },
  {
   "cell_type": "code",
   "execution_count": 12,
   "id": "54e8fce8-9e35-447e-b1b0-9ef031e8dc67",
   "metadata": {},
   "outputs": [
    {
     "name": "stdout",
     "output_type": "stream",
     "text": [
      "0     2\n",
      "1     4\n",
      "2     6\n",
      "3     8\n",
      "4    10\n",
      "dtype: int64\n",
      "0    1\n",
      "1    3\n",
      "2    5\n",
      "3    7\n",
      "4    9\n",
      "dtype: int64\n",
      "Division of two series is as follows\n",
      "0    2.000000\n",
      "1    1.333333\n",
      "2    1.200000\n",
      "3    1.142857\n",
      "4    1.111111\n",
      "dtype: float64\n"
     ]
    }
   ],
   "source": [
    "ds1 = pd.Series([2,4,6,8,10])\n",
    "print(ds1)\n",
    "ds2 = pd.Series([1,3,5,7,9])\n",
    "print(ds2)\n",
    "div = ds1 / ds2\n",
    "print(\"Division of two series is as follows\")\n",
    "print(div)"
   ]
  },
  {
   "cell_type": "markdown",
   "id": "1c7a5f26-f0a9-4444-972b-4f9a9da7c705",
   "metadata": {},
   "source": [
    "#4. Write a Pandas program to convert a dictionary to a Pandas series."
   ]
  },
  {
   "cell_type": "code",
   "execution_count": 13,
   "id": "929a9c85-fe46-43d1-8838-ddae92477eec",
   "metadata": {},
   "outputs": [
    {
     "name": "stdout",
     "output_type": "stream",
     "text": [
      "Original dictionary:\n",
      "{'1': 100, '2': 200, '3': 300, '4': 400, '5': 800}\n",
      "Converted series:\n",
      "1    100\n",
      "2    200\n",
      "3    300\n",
      "4    400\n",
      "5    800\n",
      "dtype: int64\n"
     ]
    }
   ],
   "source": [
    "dic = {'1': 100, '2': 200, '3':300, '4':400, '5':800}\n",
    "print(\"Original dictionary:\")\n",
    "print(dic)\n",
    "new_series = pd.Series(dic)\n",
    "print(\"Converted series:\")\n",
    "print(new_series)\n"
   ]
  },
  {
   "cell_type": "markdown",
   "id": "f6037b41-eb32-442c-8b37-52022499fbbb",
   "metadata": {},
   "source": [
    "#5. Write a Pandas program to convert a NumPy array to a Pandas series."
   ]
  },
  {
   "cell_type": "code",
   "execution_count": 18,
   "id": "26d7b7c3-0318-42a2-944a-fb0565e436c5",
   "metadata": {},
   "outputs": [
    {
     "name": "stdout",
     "output_type": "stream",
     "text": [
      "Numpy array\n",
      "[11 22 33 44]\n",
      "Pandas series is as follows....\n",
      "0    11\n",
      "1    22\n",
      "2    33\n",
      "3    44\n",
      "dtype: int64\n"
     ]
    }
   ],
   "source": [
    "arr = np.array([11,22,33,44])\n",
    "print(\"Numpy array\")\n",
    "print(arr)\n",
    "print(\"Pandas series is as follows....\")\n",
    "ds = pd.Series(arr)\n",
    "print(ds)"
   ]
  },
  {
   "cell_type": "markdown",
   "id": "8144cace-5723-4ad5-beaf-e03419a415e7",
   "metadata": {},
   "source": [
    "#7. Write a Pandas program to convert a given Series to an array."
   ]
  },
  {
   "cell_type": "code",
   "execution_count": 23,
   "id": "69b39108-a16f-4160-b978-8d9ae2c36f3c",
   "metadata": {},
   "outputs": [
    {
     "name": "stdout",
     "output_type": "stream",
     "text": [
      "0    11\n",
      "1    22\n",
      "2    33\n",
      "3    44\n",
      "4    55\n",
      "dtype: int64\n",
      "array is as follows\n",
      "[11 22 33 44 55]\n"
     ]
    }
   ],
   "source": [
    "ds = pd.Series([11,22,33,44,55])\n",
    "print(ds)\n",
    "print(\"array is as follows\")\n",
    "arr = ds.values\n",
    "print(arr)"
   ]
  },
  {
   "cell_type": "markdown",
   "id": "ba175c97-7db1-480b-bce5-7f068604df9b",
   "metadata": {},
   "source": [
    "#8. Write a Pandas program to create a dataframe from a dictionary and display it."
   ]
  },
  {
   "cell_type": "code",
   "execution_count": 31,
   "id": "9ccb7ae1-f9ab-4edb-8e0b-78d0d7399760",
   "metadata": {},
   "outputs": [
    {
     "name": "stdout",
     "output_type": "stream",
     "text": [
      "    X   Y   Z\n",
      "0  10  11  99\n",
      "1  20  22  88\n",
      "2  30  33  77\n",
      "3  40  44  66\n",
      "4  50  55  55\n"
     ]
    }
   ],
   "source": [
    "df = pd.DataFrame({'X':[10,20,30,40,50], 'Y':[11,22,33,44,55],'Z':[99,88,77,66,55]});\n",
    "print(df)"
   ]
  }
 ],
 "metadata": {
  "kernelspec": {
   "display_name": "Python 3 (ipykernel)",
   "language": "python",
   "name": "python3"
  },
  "language_info": {
   "codemirror_mode": {
    "name": "ipython",
    "version": 3
   },
   "file_extension": ".py",
   "mimetype": "text/x-python",
   "name": "python",
   "nbconvert_exporter": "python",
   "pygments_lexer": "ipython3",
   "version": "3.10.12"
  }
 },
 "nbformat": 4,
 "nbformat_minor": 5
}
