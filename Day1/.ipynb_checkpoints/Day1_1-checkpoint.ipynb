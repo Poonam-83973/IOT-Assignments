{
 "cells": [
  {
   "cell_type": "code",
   "execution_count": 1,
   "id": "ff1824e4-0039-443b-b657-471fcf31c1de",
   "metadata": {},
   "outputs": [
    {
     "name": "stdout",
     "output_type": "stream",
     "text": [
      "hello Everyone\n"
     ]
    }
   ],
   "source": [
    "print(\"hello Everyone\")"
   ]
  },
  {
   "cell_type": "code",
   "execution_count": 2,
   "id": "8a03e940-2bfc-419e-b326-3027be254e82",
   "metadata": {},
   "outputs": [
    {
     "name": "stdout",
     "output_type": "stream",
     "text": [
      "hello\n"
     ]
    }
   ],
   "source": [
    "print(\"hello\")"
   ]
  },
  {
   "cell_type": "code",
   "execution_count": 3,
   "id": "e0a13f62-aa28-4004-95f3-26eca7483e5b",
   "metadata": {},
   "outputs": [
    {
     "name": "stdout",
     "output_type": "stream",
     "text": [
      "Hi\n"
     ]
    }
   ],
   "source": [
    "print(\"Hi\")"
   ]
  },
  {
   "cell_type": "code",
   "execution_count": 4,
   "id": "e86da3b6-6430-404c-81c2-9d926dea1e25",
   "metadata": {},
   "outputs": [
    {
     "name": "stdout",
     "output_type": "stream",
     "text": [
      "[11, 22, 33, 44]\n"
     ]
    }
   ],
   "source": [
    "l1=[11,22,33,44]\n",
    "print(l1)"
   ]
  },
  {
   "cell_type": "code",
   "execution_count": null,
   "id": "12cb743a-33c6-4f6e-befb-83d7723679ec",
   "metadata": {},
   "outputs": [],
   "source": []
  }
 ],
 "metadata": {
  "kernelspec": {
   "display_name": "Python 3 (ipykernel)",
   "language": "python",
   "name": "python3"
  },
  "language_info": {
   "codemirror_mode": {
    "name": "ipython",
    "version": 3
   },
   "file_extension": ".py",
   "mimetype": "text/x-python",
   "name": "python",
   "nbconvert_exporter": "python",
   "pygments_lexer": "ipython3",
   "version": "3.10.12"
  }
 },
 "nbformat": 4,
 "nbformat_minor": 5
}
