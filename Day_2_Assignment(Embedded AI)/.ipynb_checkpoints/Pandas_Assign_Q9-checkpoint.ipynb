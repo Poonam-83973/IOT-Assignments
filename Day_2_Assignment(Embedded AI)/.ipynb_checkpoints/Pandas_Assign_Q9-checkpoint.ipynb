{
 "cells": [
  {
   "cell_type": "code",
   "execution_count": 1,
   "id": "96a75d24-f382-457d-82fe-ba214f77215a",
   "metadata": {},
   "outputs": [],
   "source": [
    "import numpy as np\n",
    "import pandas as pd"
   ]
  },
  {
   "cell_type": "markdown",
   "id": "ec003a86-7e41-43a4-b9c5-66f5a172bf7e",
   "metadata": {},
   "source": [
    "# 9. i) Create a list of empids and names (10 employees)."
   ]
  },
  {
   "cell_type": "code",
   "execution_count": 8,
   "id": "85685beb-dd1a-4ca7-a525-fa29a7b50b98",
   "metadata": {},
   "outputs": [
    {
     "name": "stdout",
     "output_type": "stream",
     "text": [
      "['Poonam', 'Kranti', 'Divya', 'Bhakti', 'Anita', 'Mahi', 'Ankita', 'Sona', 'Puja', 'Jui']\n"
     ]
    }
   ],
   "source": [
    "ls = [\"Poonam\",\"Kranti\",\"Divya\",\"Bhakti\",\"Anita\",\"Mahi\",\"Ankita\",\"Sona\",\"Puja\",\"Jui\"]\n",
    "print(ls)"
   ]
  },
  {
   "cell_type": "markdown",
   "id": "0a25bad1-1a6b-4714-9720-e860f19cfe9d",
   "metadata": {},
   "source": [
    "# ii) Convert list into Series."
   ]
  },
  {
   "cell_type": "code",
   "execution_count": 7,
   "id": "1ae8e3cb-9cd8-4626-8e02-bb8dddf04377",
   "metadata": {},
   "outputs": [
    {
     "name": "stdout",
     "output_type": "stream",
     "text": [
      "0    Poonam\n",
      "1    Kranti\n",
      "2     Divya\n",
      "3    Bhakti\n",
      "4     Anita\n",
      "5      Mahi\n",
      "6    Ankita\n",
      "7      Sona\n",
      "8      Puja\n",
      "9       Jui\n",
      "dtype: object\n"
     ]
    }
   ],
   "source": [
    "ls = [\"Poonam\",\"Kranti\",\"Divya\",\"Bhakti\",\"Anita\",\"Mahi\",\"Ankita\",\"Sona\",\"Puja\",\"Jui\"]\n",
    "ds = pd.Series(ls)\n",
    "print(ds)"
   ]
  },
  {
   "cell_type": "markdown",
   "id": "08b35682-b476-4f13-be29-22d4d31e9712",
   "metadata": {},
   "source": [
    "# iii) Print type of Series."
   ]
  },
  {
   "cell_type": "code",
   "execution_count": 9,
   "id": "77504617-c199-4ca8-b9e9-349eae67d1e5",
   "metadata": {},
   "outputs": [
    {
     "name": "stdout",
     "output_type": "stream",
     "text": [
      "0    Poonam\n",
      "1    Kranti\n",
      "2     Divya\n",
      "3    Bhakti\n",
      "4     Anita\n",
      "5      Mahi\n",
      "6    Ankita\n",
      "7      Sona\n",
      "8      Puja\n",
      "9       Jui\n",
      "dtype: object\n",
      "<class 'pandas.core.series.Series'>\n"
     ]
    }
   ],
   "source": [
    "ls = [\"Poonam\",\"Kranti\",\"Divya\",\"Bhakti\",\"Anita\",\"Mahi\",\"Ankita\",\"Sona\",\"Puja\",\"Jui\"]\n",
    "ds = pd.Series(ls)\n",
    "print(ds)\n",
    "print(type(ds))"
   ]
  },
  {
   "cell_type": "code",
   "execution_count": null,
   "id": "0ca8f687-bdd0-4ecd-8332-ccc8f618e136",
   "metadata": {},
   "outputs": [],
   "source": []
  },
  {
   "cell_type": "code",
   "execution_count": null,
   "id": "0d13d906-a10b-4047-ab4b-5a94a13e0ceb",
   "metadata": {},
   "outputs": [],
   "source": []
  }
 ],
 "metadata": {
  "kernelspec": {
   "display_name": "Python 3 (ipykernel)",
   "language": "python",
   "name": "python3"
  },
  "language_info": {
   "codemirror_mode": {
    "name": "ipython",
    "version": 3
   },
   "file_extension": ".py",
   "mimetype": "text/x-python",
   "name": "python",
   "nbconvert_exporter": "python",
   "pygments_lexer": "ipython3",
   "version": "3.10.12"
  }
 },
 "nbformat": 4,
 "nbformat_minor": 5
}
