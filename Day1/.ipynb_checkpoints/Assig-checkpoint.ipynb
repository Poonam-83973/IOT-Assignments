{
 "cells": [
  {
   "cell_type": "code",
   "execution_count": 1,
   "id": "6f0bd8fe-9562-436e-be33-0218bee296b7",
   "metadata": {},
   "outputs": [],
   "source": [
    "import numpy as np"
   ]
  },
  {
   "cell_type": "code",
   "execution_count": 8,
   "id": "71aa1412-2a04-4602-bcaa-3b4b354f30d3",
   "metadata": {},
   "outputs": [
    {
     "name": "stdout",
     "output_type": "stream",
     "text": [
      "n1+n2 =[30 45 42 54]\n",
      "n1-n2 = [20 15 28 36]\n",
      "n1*n2 = [125 450 245 405]\n",
      "n1/n2 = [5. 2. 5. 5.]\n"
     ]
    }
   ],
   "source": [
    "n1 = np.array([25,30,35,45])\n",
    "n2 = np.array([5,15,7,9])\n",
    "print(f\"n1+n2 ={n1+n2}\")\n",
    "print(f\"n1-n2 = {n1-n2}\")\n",
    "print(f\"n1*n2 = {n1*n2}\")\n",
    "print(f\"n1/n2 = {n1/n2}\")"
   ]
  },
  {
   "cell_type": "code",
   "execution_count": 13,
   "id": "536730d4-1d8b-47bc-8d86-374544708f88",
   "metadata": {},
   "outputs": [
    {
     "name": "stdout",
     "output_type": "stream",
     "text": [
      "[[10 11 12 13]\n",
      " [14 15 16 17]\n",
      " [18 19 20 21]]\n"
     ]
    }
   ],
   "source": [
    "a1 = np.arange(10, 22).reshape((3, 4))\n",
    "print(a1)"
   ]
  },
  {
   "cell_type": "code",
   "execution_count": 19,
   "id": "f54dcbc8-cc2d-4943-9628-2644b047ce1a",
   "metadata": {},
   "outputs": [
    {
     "name": "stdout",
     "output_type": "stream",
     "text": [
      "[[1. 0. 0.]\n",
      " [0. 1. 0.]\n",
      " [0. 0. 1.]]\n"
     ]
    }
   ],
   "source": [
    "a2 = np.eye(3)\n",
    "print(a2)"
   ]
  },
  {
   "cell_type": "code",
   "execution_count": 20,
   "id": "4c4d577b-9dd7-4343-b419-83d038152865",
   "metadata": {},
   "outputs": [
    {
     "name": "stdout",
     "output_type": "stream",
     "text": [
      "[[10 11 12 13]\n",
      " [14 15 16 17]\n",
      " [18 19 20 21]]\n",
      "Number of rows and columns are: \n",
      "(3, 4)\n"
     ]
    }
   ],
   "source": [
    "a1 = np.arange(10, 22).reshape((3, 4))\n",
    "print(a1)\n",
    "print(\"Number of rows and columns are: \")\n",
    "print(a1.shape)"
   ]
  },
  {
   "cell_type": "code",
   "execution_count": 24,
   "id": "542c6f82-e126-4b37-9192-63cfb8f223a8",
   "metadata": {},
   "outputs": [
    {
     "name": "stdout",
     "output_type": "stream",
     "text": [
      "[[1 0 0 0 0]\n",
      " [0 2 0 0 0]\n",
      " [0 0 3 0 0]\n",
      " [0 0 0 4 0]\n",
      " [0 0 0 0 5]]\n"
     ]
    }
   ],
   "source": [
    "a2 = np.diag([1,2,3,4,5])\n",
    "print(a2)"
   ]
  },
  {
   "cell_type": "code",
   "execution_count": 26,
   "id": "754dc4c9-20d0-4bbe-81fc-f4e85a14e7b1",
   "metadata": {},
   "outputs": [
    {
     "name": "stdout",
     "output_type": "stream",
     "text": [
      "[[[0.63801726 0.97063531 0.36479017]\n",
      "  [0.60600251 0.68351004 0.72187271]\n",
      "  [0.41633833 0.69704478 0.80336561]]\n",
      "\n",
      " [[0.19961073 0.61867366 0.47690533]\n",
      "  [0.82441497 0.23848742 0.09368417]\n",
      "  [0.72979178 0.4167917  0.12804453]]\n",
      "\n",
      " [[0.9769461  0.78172975 0.95697934]\n",
      "  [0.52509295 0.89147765 0.83046873]\n",
      "  [0.72128941 0.18054755 0.84851249]]]\n"
     ]
    }
   ],
   "source": [
    "a3= np.random.random((3, 3, 3))\n",
    "print(a3)"
   ]
  },
  {
   "cell_type": "code",
   "execution_count": 27,
   "id": "7fd8290b-2218-475c-9608-8cca9f588f91",
   "metadata": {},
   "outputs": [
    {
     "name": "stdout",
     "output_type": "stream",
     "text": [
      "[[[0.11605623 0.52607922 0.63762896 0.66435698]\n",
      "  [0.35804053 0.1777391  0.63608117 0.391549  ]\n",
      "  [0.24739597 0.38466331 0.62223128 0.33199899]]\n",
      "\n",
      " [[0.27761894 0.53845616 0.42133604 0.41786378]\n",
      "  [0.90038119 0.25608603 0.16966526 0.05106433]\n",
      "  [0.07390196 0.84603643 0.81201185 0.89947807]]]\n"
     ]
    }
   ],
   "source": [
    "a4 = np.random.random((2,3,4))\n",
    "print(a4)"
   ]
  },
  {
   "cell_type": "code",
   "execution_count": 29,
   "id": "c233e304-2495-4ad8-8524-22cbcb02d1d4",
   "metadata": {},
   "outputs": [
    {
     "name": "stdout",
     "output_type": "stream",
     "text": [
      "[[ 2  3  4]\n",
      " [ 5  6  7]\n",
      " [ 8  9 10]]\n"
     ]
    }
   ],
   "source": [
    "a1 = np.arange(2, 11).reshape((3, 3))\n",
    "print(a1)"
   ]
  },
  {
   "cell_type": "code",
   "execution_count": 40,
   "id": "4ba1b181-ffde-4e34-8096-dad27b888239",
   "metadata": {},
   "outputs": [
    {
     "name": "stdout",
     "output_type": "stream",
     "text": [
      "[12 13 14 15 16 17 18 19 20 21 22 23 24 25 26 27 28 29 30 31 32 33 34 35\n",
      " 36 37]\n"
     ]
    }
   ],
   "source": [
    "a1 = np.arange(12, 38)\n",
    "print(a1)"
   ]
  },
  {
   "cell_type": "code",
   "execution_count": 36,
   "id": "d0b5ad64-f6c1-43e0-87b6-3b80be8dac01",
   "metadata": {},
   "outputs": [
    {
     "name": "stdout",
     "output_type": "stream",
     "text": [
      "[12 13 14 15 16 17 18 19 20 21 22 23 24 25 26 27 28 29 30 31 32 33 34]\n",
      "[34 33 32 31 30 29 28 27 26 25 24 23 22 21 20 19 18 17 16 15 14 13 12]\n"
     ]
    }
   ],
   "source": [
    "a1 = np.arange(12, 35)\n",
    "print(a1)\n",
    "a1 = a1[::-1]\n",
    "print(a1)"
   ]
  },
  {
   "cell_type": "code",
   "execution_count": 37,
   "id": "ea653e92-fc96-4866-b7a9-781df6db7dee",
   "metadata": {},
   "outputs": [
    {
     "name": "stdout",
     "output_type": "stream",
     "text": [
      "[11, 22, 33, 44, 55]\n",
      "[11. 22. 33. 44. 55.]\n"
     ]
    }
   ],
   "source": [
    "a=[11,22,33,44,55]\n",
    "print(a)\n",
    "a1 = np.asfarray(a)\n",
    "print(a1)"
   ]
  },
  {
   "cell_type": "code",
   "execution_count": 42,
   "id": "d0aefa3a-26cc-47ad-a1e5-f4bf79bdd463",
   "metadata": {},
   "outputs": [
    {
     "name": "stdout",
     "output_type": "stream",
     "text": [
      "n1%n2 = [4 9 0 5]\n"
     ]
    }
   ],
   "source": [
    "n1 = np.array([24,24,35,41])\n",
    "n2 = np.array([5,15,7,9])\n",
    "print(f\"n1%n2 = {n1%n2}\")"
   ]
  },
  {
   "cell_type": "code",
   "execution_count": 44,
   "id": "6cd37f90-ce87-4005-8488-d1bc66cf0443",
   "metadata": {},
   "outputs": [
    {
     "name": "stdout",
     "output_type": "stream",
     "text": [
      "[20 21 22 23 24 25 26 27 28 29 30 31 32 33 34 35 36 37 38 39 40 41 42 43\n",
      " 44 45 46 47 48 49]\n",
      "[2 0 1 2 0 1 2 0 1 2 0 1 2 0 1 2 0 1 2 0 1 2 0 1 2 0 1 2 0 1]\n"
     ]
    }
   ],
   "source": [
    "a1=np.arange(20,50)\n",
    "print(a1)\n",
    "print(a1%3)"
   ]
  },
  {
   "cell_type": "code",
   "execution_count": null,
   "id": "4bdad563-5ee0-4393-9321-41e81994739c",
   "metadata": {},
   "outputs": [],
   "source": []
  }
 ],
 "metadata": {
  "kernelspec": {
   "display_name": "Python 3 (ipykernel)",
   "language": "python",
   "name": "python3"
  },
  "language_info": {
   "codemirror_mode": {
    "name": "ipython",
    "version": 3
   },
   "file_extension": ".py",
   "mimetype": "text/x-python",
   "name": "python",
   "nbconvert_exporter": "python",
   "pygments_lexer": "ipython3",
   "version": "3.10.12"
  }
 },
 "nbformat": 4,
 "nbformat_minor": 5
}
