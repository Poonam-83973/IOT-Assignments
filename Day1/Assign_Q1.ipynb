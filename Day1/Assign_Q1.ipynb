{
 "cells": [
  {
   "cell_type": "code",
   "execution_count": 1,
   "id": "c06271c4-47aa-404a-8f40-192d8180155e",
   "metadata": {},
   "outputs": [],
   "source": [
    "import numpy as np"
   ]
  },
  {
   "cell_type": "markdown",
   "id": "426e981e-7a3a-47de-887c-f4ebb7627a08",
   "metadata": {},
   "source": [
    "#1.Write a NumPy program to create an array with the values 1, 7, 13, 105 & determine the size of the memory occupied by the array."
   ]
  },
  {
   "cell_type": "code",
   "execution_count": 7,
   "id": "64299374-56b7-43d5-87c8-82759eaa25ef",
   "metadata": {},
   "outputs": [
    {
     "name": "stdout",
     "output_type": "stream",
     "text": [
      "[  1   7  13 105]\n",
      "Type = <class 'numpy.ndarray'>\n",
      "Item Size = 8\n",
      "Size = 4\n",
      "NBYTES = 32\n"
     ]
    }
   ],
   "source": [
    "n_arr = np.array([1,7,13,105])\n",
    "print(n_arr)\n",
    "print(f\"Type = {type(n_arr)}\")\n",
    "print(f\"Item Size = {n_arr.itemsize}\")\n",
    "print(f\"Size = {n_arr.size}\")\n",
    "print(f\"NBYTES = {n_arr.nbytes}\")"
   ]
  }
 ],
 "metadata": {
  "kernelspec": {
   "display_name": "Python 3 (ipykernel)",
   "language": "python",
   "name": "python3"
  },
  "language_info": {
   "codemirror_mode": {
    "name": "ipython",
    "version": 3
   },
   "file_extension": ".py",
   "mimetype": "text/x-python",
   "name": "python",
   "nbconvert_exporter": "python",
   "pygments_lexer": "ipython3",
   "version": "3.10.12"
  }
 },
 "nbformat": 4,
 "nbformat_minor": 5
}
